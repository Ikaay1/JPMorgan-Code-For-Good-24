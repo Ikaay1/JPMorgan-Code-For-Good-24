{
 "cells": [
  {
   "cell_type": "markdown",
   "metadata": {},
   "source": [
    "Generating crisis call data"
   ]
  },
  {
   "cell_type": "code",
   "execution_count": 19,
   "metadata": {},
   "outputs": [],
   "source": [
    "from faker import Faker\n",
    "import pandas as pd\n",
    "import numpy as np\n",
    "import random"
   ]
  },
  {
   "cell_type": "code",
   "execution_count": 20,
   "metadata": {},
   "outputs": [],
   "source": [
    "fake = Faker(\"en_us\")"
   ]
  },
  {
   "cell_type": "code",
   "execution_count": 21,
   "metadata": {},
   "outputs": [],
   "source": [
    "def generate_call_data(num_calls):\n",
    "    data = []\n",
    "\n",
    "    notes = [\n",
    "        \"Caller reported feeling isolated and anxious due to recent job loss.\",\n",
    "        \"Caller expressed difficulty coping with family pressures and expectations.\",\n",
    "        \"Caller mentioned experiencing frequent panic attacks and sleep disturbances.\",\n",
    "        \"Caller feels overwhelmed with schoolwork and is unsure of how to manage stress.\",\n",
    "        \"Caller reported thoughts of self-harm but no immediate plans or intent.\",\n",
    "        \"Caller expressed feelings of hopelessness and low energy levels for several weeks.\",\n",
    "        \"Caller is experiencing relationship issues and feeling misunderstood by partner.\",\n",
    "        \"Caller reported feeling out of control and unable to manage emotional triggers.\",\n",
    "        \"Caller recently lost a loved one and is struggling with grief and sadness.\",\n",
    "        \"Caller stated they are feeling alone and have limited social support.\",\n",
    "        \"Caller mentioned having financial struggles which are impacting their mental health.\",\n",
    "        \"Caller expressed concerns about their mental health and confusion about next steps.\",\n",
    "        \"Caller is seeking guidance on managing anger issues affecting their relationships.\",\n",
    "        \"Caller has recently experienced bullying and is struggling with self-esteem.\",\n",
    "        \"Caller reported ongoing feelings of worthlessness and inability to see a positive future.\",\n",
    "        \"Caller is fearful of going outside due to recent traumatic experience in public space.\",\n",
    "        \"Caller shared that they have been feeling numb and disconnected from others.\",\n",
    "        \"Caller mentioned a recent increase in substance use to cope with stress and anxiety.\",\n",
    "        \"Caller reported feeling trapped in their current situation with no way out.\",\n",
    "        \"Caller expressed concern about worsening mental health symptoms and lack of motivation.\",\n",
    "        \"Caller feels unsupported by family and is unsure where to turn for help.\",\n",
    "        \"Caller reported constant worry and inability to relax, affecting daily functioning.\",\n",
    "        \"Caller has been feeling anxious about the future and uncertain about next steps.\",\n",
    "        \"Caller reported feeling fatigued and unable to enjoy activities they once loved.\",\n",
    "        \"Caller expressed frustration with the mental health care system and long wait times.\",\n",
    "        \"Caller shared that they often feel like a burden to others and prefer isolation.\",\n",
    "        \"Caller reported mood swings and trouble controlling outbursts in social settings.\",\n",
    "        \"Caller is experiencing social anxiety and avoids interactions with friends or family.\",\n",
    "        \"Caller mentioned feeling unsafe in their living environment and is seeking advice.\",\n",
    "        \"Caller shared that they are struggling with low self-worth and negative self-talk.\",\n",
    "        \"Caller is having difficulty adjusting to major life changes and feels overwhelmed.\",\n",
    "        \"Caller expressed fear of relapse into past negative behaviors and wants support.\",\n",
    "        \"Caller mentioned physical symptoms related to anxiety, like shortness of breath.\",\n",
    "        \"Caller feels they lack a sense of purpose and often wonder why they feel this way.\",\n",
    "        \"Caller shared experiences of workplace discrimination affecting mental health.\",\n",
    "        \"Caller mentioned ongoing nightmares and difficulty sleeping due to past trauma.\",\n",
    "        \"Caller expressed doubt about their abilities and feels stuck in a career rut.\",\n",
    "        \"Caller is worried about their health and experiencing symptoms of health anxiety.\",\n",
    "        \"Caller mentioned feeling like they don’t belong and struggling with identity issues.\",\n",
    "        \"Caller reported feeling exhausted from caring for a family member and needs support.\",\n",
    "        \"Caller shared that they are dealing with cultural expectations that feel overwhelming.\",\n",
    "        \"Caller feels isolated as a new parent and is seeking resources for support.\",\n",
    "        \"Caller expressed concerns about managing time and work-life balance.\",\n",
    "        \"Caller reported overwhelming feelings of guilt and shame about past actions.\",\n",
    "        \"Caller feels they are losing control over their emotions and doesn’t know why.\",\n",
    "        \"Caller mentioned experiencing intense social isolation and lack of close friends.\",\n",
    "        \"Caller expressed fear of being judged for their mental health struggles.\",\n",
    "        \"Caller is worried about the impact of their mental health on their family members.\",\n",
    "        \"Caller mentioned struggling with chronic illness and feeling worn out emotionally.\",\n",
    "        \"Caller expressed gratitude for having someone to listen, but still feels uncertain.\",\n",
    "    ]\n",
    "\n",
    "    for i in range(num_calls):\n",
    "        record = {\n",
    "            'id': i,\n",
    "            'name': fake.name(),\n",
    "            'call_date': fake.date_between(start_date=\"-1y\", end_date=\"today\"),\n",
    "            'call_duration': round(random.uniform(5, 60), 2), # call duration in minutees\n",
    "            'caller_status': random.choice(['New Caller', 'Repeat Caller']),  # is this a first-time caller?\n",
    "            'urgency': random.choice(['Low', 'Moderate', 'High', 'Critical']),  \n",
    "            'support_requested': random.choice([\n",
    "                'Emotional Support',\n",
    "                'Resource Referral',\n",
    "                'Immediate Intervention',\n",
    "                'Follow-Up Support',\n",
    "            ]),\n",
    "            'mental_health_history': random.choice(['None', 'Prior Diagnosis', 'Ongoing Treatment']),\n",
    "            'support_recommended': random.choice([\n",
    "                'Counseling',\n",
    "                'Medication Referral',\n",
    "                'Peer Support Group',\n",
    "                'Crisis Intervention'\n",
    "            ]),\n",
    "            'notes': random.choice(notes)\n",
    "        }\n",
    "        data.append(record)\n",
    "    \n",
    "    return pd.DataFrame(data)\n"
   ]
  },
  {
   "cell_type": "code",
   "execution_count": 22,
   "metadata": {},
   "outputs": [
    {
     "name": "stdout",
     "output_type": "stream",
     "text": [
      " id               name  call_date  call_duration caller_status  urgency      support_requested mental_health_history support_recommended                                                                                  notes\n",
      "  0      Charles Burch 2024-03-08          25.37    New Caller Critical Immediate Intervention                  None  Peer Support Group            Caller feels isolated as a new parent and is seeking resources for support.\n",
      "  1      Brenda Wilson 2024-01-26          18.19 Repeat Caller Moderate      Emotional Support                  None Medication Referral        Caller mentioned ongoing nightmares and difficulty sleeping due to past trauma.\n",
      "  2 Christopher Farley 2024-03-08          30.38 Repeat Caller Critical Immediate Intervention                  None  Peer Support Group                   Caller reported feeling isolated and anxious due to recent job loss.\n",
      "  3        Janet Davis 2024-04-16          51.39 Repeat Caller Moderate      Emotional Support       Prior Diagnosis Crisis Intervention       Caller mentioned physical symptoms related to anxiety, like shortness of breath.\n",
      "  4        Joel Sutton 2024-04-19          24.50    New Caller      Low Immediate Intervention                  None Medication Referral     Caller mentioned struggling with chronic illness and feeling worn out emotionally.\n",
      "  5        Laura Brown 2024-01-07          54.73    New Caller Moderate Immediate Intervention       Prior Diagnosis Medication Referral      Caller is worried about their health and experiencing symptoms of health anxiety.\n",
      "  6        Paul Turner 2023-11-14          38.11 Repeat Caller     High Immediate Intervention     Ongoing Treatment  Peer Support Group        Caller reported feeling out of control and unable to manage emotional triggers.\n",
      "  7        Troy Nguyen 2024-10-07          15.61 Repeat Caller Critical      Emotional Support     Ongoing Treatment Medication Referral Caller is fearful of going outside due to recent traumatic experience in public space.\n",
      "  8    Nicholas Wright 2024-10-04          22.40 Repeat Caller     High Immediate Intervention                  None Crisis Intervention             Caller expressed difficulty coping with family pressures and expectations.\n",
      "  9         Lisa Green 2024-02-15          47.21    New Caller     High      Follow-Up Support     Ongoing Treatment  Peer Support Group   Caller mentioned a recent increase in substance use to cope with stress and anxiety.\n"
     ]
    }
   ],
   "source": [
    "call_data = generate_call_data(1000)\n",
    "print(call_data.head(10).to_string(index=False))"
   ]
  },
  {
   "cell_type": "code",
   "execution_count": 24,
   "metadata": {},
   "outputs": [],
   "source": [
    "call_data.to_csv(\"data/call_data.csv\", index=False)"
   ]
  }
 ],
 "metadata": {
  "kernelspec": {
   "display_name": "venv",
   "language": "python",
   "name": "python3"
  },
  "language_info": {
   "codemirror_mode": {
    "name": "ipython",
    "version": 3
   },
   "file_extension": ".py",
   "mimetype": "text/x-python",
   "name": "python",
   "nbconvert_exporter": "python",
   "pygments_lexer": "ipython3",
   "version": "3.9.6"
  }
 },
 "nbformat": 4,
 "nbformat_minor": 2
}
