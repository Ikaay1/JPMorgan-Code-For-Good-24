{
 "cells": [
  {
   "cell_type": "markdown",
   "metadata": {},
   "source": [
    "Generating financial expenditure data"
   ]
  },
  {
   "cell_type": "code",
   "execution_count": 28,
   "metadata": {},
   "outputs": [],
   "source": [
    "from faker import Faker\n",
    "import pandas as pd\n",
    "import numpy as np\n",
    "import random"
   ]
  },
  {
   "cell_type": "code",
   "execution_count": 29,
   "metadata": {},
   "outputs": [],
   "source": [
    "fake = Faker(\"en_us\")"
   ]
  },
  {
   "cell_type": "code",
   "execution_count": 30,
   "metadata": {},
   "outputs": [],
   "source": [
    "def generate_financial_data():\n",
    "    data = []\n",
    "\n",
    "    years = [2018, 2019, 2020, 2021, 2022, 2023, 2024] # hard-coded\n",
    "    months = [1, 2, 3, 4, 5, 6, 7, 8, 9, 10, 11, 12]\n",
    "\n",
    "    for year in years:\n",
    "        for month in months:\n",
    "            total_funding = random.uniform(10000, 30000)  # example range for monthly revenue\n",
    "            administrative_cost = random.uniform(10000, 30000)\n",
    "            operational_cost = random.uniform(20000, 50000)\n",
    "            infrastructure_cost = random.uniform(15000, 40000)\n",
    "            supply_cost = random.uniform(5000, 20000)\n",
    "            salary_cost = random.uniform(30000, 100000)\n",
    "            num_patients_seen = random.randint(1000, 3000)  # patients seen per month\n",
    "            \n",
    "            total_expense = administrative_cost + operational_cost + infrastructure_cost + supply_cost + salary_cost\n",
    "            \n",
    "            record = {\n",
    "                \"year\": year,\n",
    "                \"month\": month,\n",
    "                \"total_funding\": total_funding,\n",
    "                \"total_expense\": total_expense,\n",
    "                \"administrative_cost\": administrative_cost,\n",
    "                \"operational_cost\": operational_cost,\n",
    "                \"infrastructure_cost\": infrastructure_cost,\n",
    "                \"supply_cost\": supply_cost,\n",
    "                \"salary_cost\": salary_cost,\n",
    "                \"num_patients_seen\": num_patients_seen\n",
    "            }\n",
    "            data.append(record)\n",
    "    \n",
    "    return pd.DataFrame(data)"
   ]
  },
  {
   "cell_type": "code",
   "execution_count": 32,
   "metadata": {},
   "outputs": [
    {
     "name": "stdout",
     "output_type": "stream",
     "text": [
      " year  month  total_funding  total_expense  administrative_cost  operational_cost  infrastructure_cost  supply_cost  salary_cost  num_patients_seen\n",
      " 2018      1   29835.193894  179919.108200         16508.163010      31134.324345         37444.458874  6473.293180 88358.868791               2694\n",
      " 2018      2   14604.776956  179254.437113         18116.519957      45865.289082         20377.135199 12791.143407 82104.349468               2070\n",
      " 2018      3   24568.522904  181619.320554         28439.671134      23215.445012         25071.081406 14359.943266 90533.179737               1926\n",
      " 2018      4   20264.650897  147235.865587         21871.288381      47645.637968         26615.010300 13953.560096 37150.368842               1208\n",
      " 2018      5   25566.707747  169882.973908         13690.379160      38302.374272         26529.999286 13768.652337 77591.568853               2128\n",
      " 2018      6   24650.730403  173128.308960         24725.898970      20369.833568         15683.502839 17334.216349 95014.857234               2450\n",
      " 2018      7   29694.573471  123334.125252         22351.250280      26997.505167         19390.230328 12646.084524 41949.054953               1628\n",
      " 2018      8   29442.634341  193162.674635         24707.090976      43198.439194         20583.585317 17642.262623 87031.296524               2265\n",
      " 2018      9   12153.958689  149042.834177         25352.144337      39105.464300         25449.659681  6659.966279 52475.599579               2104\n",
      " 2018     10   19075.304487  188039.893643         25198.955918      30040.095567         31750.913442 11438.507581 89611.421136               2588\n"
     ]
    }
   ],
   "source": [
    "financial_data = generate_financial_data()\n",
    "print(financial_data.head(10).to_string(index=False))"
   ]
  },
  {
   "cell_type": "code",
   "execution_count": 33,
   "metadata": {},
   "outputs": [],
   "source": [
    "financial_data.to_csv(\"data/financial_data.csv\", index=False)"
   ]
  }
 ],
 "metadata": {
  "kernelspec": {
   "display_name": "venv",
   "language": "python",
   "name": "python3"
  },
  "language_info": {
   "codemirror_mode": {
    "name": "ipython",
    "version": 3
   },
   "file_extension": ".py",
   "mimetype": "text/x-python",
   "name": "python",
   "nbconvert_exporter": "python",
   "pygments_lexer": "ipython3",
   "version": "3.9.6"
  }
 },
 "nbformat": 4,
 "nbformat_minor": 2
}
