{
 "cells": [
  {
   "cell_type": "markdown",
   "metadata": {},
   "source": [
    "Generating patient data"
   ]
  },
  {
   "cell_type": "code",
   "execution_count": 12,
   "metadata": {},
   "outputs": [],
   "source": [
    "from faker import Faker\n",
    "import pandas as pd\n",
    "import numpy as np\n",
    "import random"
   ]
  },
  {
   "cell_type": "code",
   "execution_count": 13,
   "metadata": {},
   "outputs": [],
   "source": [
    "fake = Faker(\"en_us\")"
   ]
  },
  {
   "cell_type": "code",
   "execution_count": 14,
   "metadata": {},
   "outputs": [],
   "source": [
    "def generate_patient_data(num_patients):\n",
    "    data = []\n",
    "\n",
    "    race = ['White', 'Black', 'Asian', 'Hispanic', 'Native American or Alaskan Native', 'Native Hawaiian or Other Pacific Islander', 'Biracial', 'Other']\n",
    "    race_weights = [0.616, 0.124, 0.60, 0.189, 0.029, 0.002, 0.102, 0.084]\n",
    "    \n",
    "    gender = ['Male', 'Female', 'Non-Binary', 'Other']\n",
    "    gender_weights = [0.45, 0.40, 0.10, 0.05]\n",
    "    \n",
    "    insurance = ['Commercial', 'Private', 'Government', 'Uninsured', 'Other']\n",
    "    insurance_weights = [0.2, 0.05, 0.3, 0.4, 0.05]\n",
    "\n",
    "    smoking = ['Current Smoker', 'Former Smoker', 'Never Smoked']\n",
    "    smoking_weights = [0.4, 0.3, 0.3]\n",
    "\n",
    "    alcohol = ['None', 'Occasional', 'Moderate', 'Heavy']\n",
    "    alcohol_weights = [0.1, 0.3, 0.4, 0.2]\n",
    "\n",
    "    physical_activity = ['Sedentary', 'Slightly Active', 'Moderately Active', 'Very Active']\n",
    "    physical_activity_weights = [0.6, 0.25, 0.1, 0.05]\n",
    "\n",
    "    support_system = ['Poor', 'Fair', 'Good', 'Excellent']\n",
    "    support_system_weights = [0.3, 0.5, 0.1, 0.1]\n",
    "\n",
    "    for i in range(num_patients):\n",
    "        record = {\n",
    "            \"patient_id\": i,\n",
    "            'name': fake.name(),\n",
    "            \"address\": fake.address(),\n",
    "            \"phone_number\": fake.phone_number(),\n",
    "            \"age\": random.randint(1, 100),  \n",
    "            \"race\": random.choices(race, weights=race_weights)[0],\n",
    "            \"gender\": random.choices(gender, weights=gender_weights)[0],\n",
    "            \"insurance\": random.choices(insurance, weights=insurance_weights)[0],\n",
    "            \"smoking\": random.choices(smoking, weights=smoking_weights)[0],\n",
    "            \"physical_activity\": random.choices(physical_activity, weights=physical_activity_weights)[0],\n",
    "            \"alcohol\": random.choices(alcohol, weights=alcohol_weights)[0],\n",
    "            \"support_system\": random.choices(support_system, support_system_weights)[0],\n",
    "        }\n",
    "        data.append(record)\n",
    "    \n",
    "    return pd.DataFrame(data)\n"
   ]
  },
  {
   "cell_type": "code",
   "execution_count": 15,
   "metadata": {},
   "outputs": [
    {
     "name": "stdout",
     "output_type": "stream",
     "text": [
      " patient_id             name                                                   address          phone_number  age     race gender  insurance        smoking physical_activity    alcohol support_system\n",
      "          0   Michele Fisher         54673 John Wells Suite 867, Matthewbury, ID 50179     (278)378-0800x367   35    Asian Female Government   Never Smoked Moderately Active      Heavy           Poor\n",
      "          1    Kathryn Allen  011 Daniel Circle Suite 528, Port Matthewmouth, ND 86875  001-232-670-5841x764   70    White Female Government  Former Smoker   Slightly Active      Heavy           Fair\n",
      "          2   Jeffrey Vaughn                66239 Travis Hollow, Gravesmouth, GA 84666 +1-410-489-6448x68788   27    White Female Commercial   Never Smoked Moderately Active   Moderate           Poor\n",
      "          3         Mary Lee                          Unit 1126 Box 7374, DPO AE 73761          311-403-8673   30    White   Male      Other Current Smoker       Very Active   Moderate           Poor\n",
      "          4     Marissa Rush    2102 Laura Via Suite 529, Port Mitchellville, OH 53639     793-401-9194x7204   56    Asian Female Commercial  Former Smoker         Sedentary Occasional           Poor\n",
      "          5 Victoria Johnson               67058 Miller Valleys, North Heidi, AS 74499   +1-747-253-1418x897   77    White   Male Government  Former Smoker   Slightly Active Occasional           Fair\n",
      "          6    Craig Ramirez                   691 Jessica Ridges, Clarkstad, NJ 20879 +1-526-697-2112x21083   41    Asian Female  Uninsured   Never Smoked         Sedentary   Moderate           Fair\n",
      "          7       Kayla Hale 270 Amanda Village Suite 666, Port Williamburgh, GU 68410            5139488029   92    White   Male  Uninsured Current Smoker         Sedentary   Moderate      Excellent\n",
      "          8   Matthew Mendez             086 Crystal Expressway, Melissaland, SC 28044      289-526-7791x345   97 Hispanic   Male  Uninsured  Former Smoker         Sedentary       None           Fair\n",
      "          9 Elizabeth Taylor            0893 Lawrence Orchard, Kimberlymouth, OH 07264     682-468-4119x1759   32    Asian Female  Uninsured   Never Smoked         Sedentary   Moderate           Fair\n"
     ]
    }
   ],
   "source": [
    "patient_data = generate_patient_data(1000)\n",
    "patient_data['address'] = patient_data['address'].str.replace('\\n', ', ', regex=True)\n",
    "print(patient_data.head(10).to_string(index=False))"
   ]
  },
  {
   "cell_type": "code",
   "execution_count": 17,
   "metadata": {},
   "outputs": [],
   "source": [
    "patient_data.to_csv(\"data/patient_data.csv\", index=False)"
   ]
  }
 ],
 "metadata": {
  "kernelspec": {
   "display_name": "venv",
   "language": "python",
   "name": "python3"
  },
  "language_info": {
   "codemirror_mode": {
    "name": "ipython",
    "version": 3
   },
   "file_extension": ".py",
   "mimetype": "text/x-python",
   "name": "python",
   "nbconvert_exporter": "python",
   "pygments_lexer": "ipython3",
   "version": "3.9.6"
  }
 },
 "nbformat": 4,
 "nbformat_minor": 2
}
