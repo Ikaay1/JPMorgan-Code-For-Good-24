{
 "cells": [
  {
   "cell_type": "markdown",
   "metadata": {},
   "source": [
    "Generating resource allocation & staffing data"
   ]
  },
  {
   "cell_type": "code",
   "execution_count": 11,
   "metadata": {},
   "outputs": [],
   "source": [
    "from faker import Faker\n",
    "import pandas as pd\n",
    "import numpy as np\n",
    "import random"
   ]
  },
  {
   "cell_type": "code",
   "execution_count": 12,
   "metadata": {},
   "outputs": [],
   "source": [
    "fake = Faker(\"en_us\")"
   ]
  },
  {
   "cell_type": "code",
   "execution_count": 13,
   "metadata": {},
   "outputs": [],
   "source": [
    "def generate_resource_data():\n",
    "    data = []\n",
    "\n",
    "    years = [2018, 2019, 2020, 2021, 2022, 2023, 2024]  # hard-coded\n",
    "    months = [1, 2, 3, 4, 5, 6, 7, 8, 9, 10, 11, 12]\n",
    "\n",
    "    for year in years:\n",
    "        for month in months:\n",
    "            total_funding = random.uniform(50000, 150000)  # example range for monthly funding\n",
    "            \n",
    "            # resource allocations (monetary)\n",
    "            hr_cost = random.uniform(10000, 30000) \n",
    "            tech_cost = random.uniform(20000, 60000) \n",
    "            training_cost = random.uniform(5000, 15000)\n",
    "            equipment_cost = random.uniform(10000, 30000) \n",
    "            \n",
    "            # staffing allocations (number of staff members)\n",
    "            hr_staff = random.randint(5, 15)\n",
    "            tech_staff = random.randint(10, 50)\n",
    "            clinical_staff = random.randint(20, 100)  # for healthcare-specific allocation\n",
    "            admin_staff = random.randint(5, 20)\n",
    "            support_staff = random.randint(5, 15)\n",
    "            \n",
    "            total_expense = hr_cost + tech_cost + training_cost + equipment_cost\n",
    "            total_staff = hr_staff + tech_staff + clinical_staff + admin_staff + support_staff\n",
    "            \n",
    "            record = {\n",
    "                \"year\": year,\n",
    "                \"month\": month,\n",
    "                \"total_funding\": total_funding,\n",
    "                \"total_expense\": total_expense,\n",
    "                \"hr_cost\": hr_cost,\n",
    "                \"tech_cost\": tech_cost,\n",
    "                \"training_cost\": training_cost,\n",
    "                \"equipment_cost\": equipment_cost,\n",
    "                \"total_staff\": total_staff,\n",
    "                \"hr_staff\": hr_staff,\n",
    "                \"tech_staff\": tech_staff,\n",
    "                \"clinical_staff\": clinical_staff,\n",
    "                \"admin_staff\": admin_staff,\n",
    "                \"support_staff\": support_staff\n",
    "            }\n",
    "            data.append(record)\n",
    "    \n",
    "    return pd.DataFrame(data)"
   ]
  },
  {
   "cell_type": "code",
   "execution_count": 14,
   "metadata": {},
   "outputs": [
    {
     "name": "stdout",
     "output_type": "stream",
     "text": [
      " year  month  total_funding  total_expense      hr_cost    tech_cost  training_cost  equipment_cost  total_staff  hr_staff  tech_staff  clinical_staff  admin_staff  support_staff\n",
      " 2018      1   54879.370227   86503.074625 21037.717639 30287.886984    6376.495866    28800.974136          148         8          50              67            8             15\n",
      " 2018      2  127116.681384   82353.020065 13352.361182 47599.737622    9170.829158    12230.092103          118         7          50              50            5              6\n",
      " 2018      3  146721.435781   95828.833304 20182.863952 42907.409263    8773.105549    23965.454541          164         6          37              87           20             14\n",
      " 2018      4  142036.937130  104561.253067 12344.642944 58582.678782   11049.636990    22584.294351          119         8          24              66            7             14\n",
      " 2018      5   69614.224852  105557.576652 21393.828288 51707.613832   10720.689935    21735.444596          120        13          42              47            6             12\n",
      " 2018      6  139078.660170   92387.693513 11431.279005 47083.032866   12558.710366    21314.671277          103         5          20              52           16             10\n",
      " 2018      7   95671.787593   96165.770004 16066.890431 54042.597052   13648.293774    12407.988747           77         7          19              33            7             11\n",
      " 2018      8   58724.249157   91845.817209 19509.924076 38987.448632   10031.230169    23317.214333          104        11          16              61           11              5\n",
      " 2018      9   63729.497335   73028.150107 17176.426964 23481.304410   10611.911703    21758.507030          118         7          38              48           12             13\n",
      " 2018     10  123693.391215   97195.954250 14137.499206 50248.119355   14413.939307    18396.396383           85        12          21              20           18             14\n"
     ]
    }
   ],
   "source": [
    "resource_data = generate_resource_data()\n",
    "print(resource_data.head(10).to_string(index=False))"
   ]
  },
  {
   "cell_type": "code",
   "execution_count": 15,
   "metadata": {},
   "outputs": [],
   "source": [
    "resource_data.to_csv(\"data/resource_data.csv\", index=False)"
   ]
  }
 ],
 "metadata": {
  "kernelspec": {
   "display_name": "venv",
   "language": "python",
   "name": "python3"
  },
  "language_info": {
   "codemirror_mode": {
    "name": "ipython",
    "version": 3
   },
   "file_extension": ".py",
   "mimetype": "text/x-python",
   "name": "python",
   "nbconvert_exporter": "python",
   "pygments_lexer": "ipython3",
   "version": "3.9.6"
  }
 },
 "nbformat": 4,
 "nbformat_minor": 2
}
